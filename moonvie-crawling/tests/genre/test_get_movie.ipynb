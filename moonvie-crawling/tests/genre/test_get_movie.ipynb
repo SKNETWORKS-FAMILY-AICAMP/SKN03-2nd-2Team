{
 "cells": [
  {
   "cell_type": "code",
   "execution_count": null,
   "metadata": {},
   "outputs": [],
   "source": [
    "import pandas as pd\n",
    "import ray\n",
    "import requests\n",
    "from constants import Parameters\n",
    "from env import settings\n",
    "\n",
    "ray.init()\n",
    "\n",
    "\n",
    "def request_api(current_page):\n",
    "    api_key = settings.KOFIC_API_KEY  # 여기에 발급받은 API 키를 입력하세요.\n",
    "\n",
    "    url = (\n",
    "        \"http://www.kobis.or.kr/kobisopenapi/webservice/rest/movie/searchMovieList.json\"\n",
    "    )\n",
    "    params = {\n",
    "        \"key\": api_key,\n",
    "        \"curPage\": str(current_page),  # 현재 페이지\n",
    "        \"itemPerPage\": Parameters.ITEM_PER_PAGE.value,  # 결과 ROW의 개수 (최대 100개로 설정)\n",
    "        \"openStartDt\": Parameters.OPEN_START_DT.value,\n",
    "        \"openEndDt\": Parameters.OPEN_END_DT.value,\n",
    "    }\n",
    "\n",
    "    # API 요청\n",
    "    response = requests.get(url, params=params)\n",
    "\n",
    "    # 응답 상태 코드 출력\n",
    "    print(f\"응답 상태 코드: {response.status_code} for page {current_page}\")\n",
    "\n",
    "    return response"
   ]
  },
  {
   "cell_type": "code",
   "execution_count": null,
   "metadata": {},
   "outputs": [],
   "source": [
    "@ray.remote\n",
    "def process_get_movie(movie):\n",
    "    movie_info = {\n",
    "        \"영화 코드\": movie.get(\"movieCd\", \"정보 없음\"),\n",
    "        \"영화명(국문)\": movie.get(\"movieNm\", \"정보 없음\"),\n",
    "        \"영화명(영문)\": movie.get(\"movieNmEn\", \"정보 없음\"),\n",
    "        \"제작연도\": movie.get(\"prdtYear\", \"정보 없음\"),\n",
    "        \"개봉일\": movie.get(\"openDt\", \"정보 없음\"),\n",
    "        \"영화유형\": movie.get(\"typeNm\", \"정보 없음\"),\n",
    "        \"제작상태\": movie.get(\"prdtStatNm\", \"정보 없음\"),\n",
    "        \"제작국가\": movie.get(\"nationAlt\", \"정보 없음\"),\n",
    "        \"영화장르\": movie.get(\"genreAlt\", \"정보 없음\"),\n",
    "        \"대표 제작국가\": movie.get(\"repNationNm\", \"정보 없음\"),\n",
    "        \"대표 장르\": movie.get(\"repGenreNm\", \"정보 없음\"),\n",
    "        # 감독 정보 추출\n",
    "        \"영화 감독 이름\": \", \".join([\n",
    "            director.get(\"peopleNm\", \"정보 없음\")\n",
    "            for director in movie.get(\"directors\", [])\n",
    "        ]),\n",
    "        # 제작사 정보 추출\n",
    "        \"제작사 코드\": \", \".join([\n",
    "            company.get(\"companyCd\", \"정보 없음\")\n",
    "            for company in movie.get(\"companys\", [])\n",
    "        ]),\n",
    "    }\n",
    "    return movie_info\n"
   ]
  },
  {
   "cell_type": "code",
   "execution_count": null,
   "metadata": {},
   "outputs": [],
   "source": [
    "def get_movies(movie_list_items):\n",
    "    futures = [process_get_movie.remote(movie) for movie in movie_list_items]\n",
    "    return ray.get(futures)"
   ]
  },
  {
   "cell_type": "code",
   "execution_count": null,
   "metadata": {},
   "outputs": [],
   "source": [
    "def get_movie_list() -> None:\n",
    "    current_page = 1\n",
    "\n",
    "    # 영화 정보를 저장할 리스트 생성\n",
    "    movies = []\n",
    "\n",
    "    while True:\n",
    "        response = request_api(current_page)\n",
    "        response_data = response.json()\n",
    "        movie_list_items = response_data.get(\"movieListResult\", {}).get(\"movieList\", [])\n",
    "        try:\n",
    "            if not movie_list_items:\n",
    "                raise Exception(f\"현재 페이지: {current_page}에 데이터가 없습니다.\")\n",
    "            # 데이터 가공\n",
    "            if response.status_code != 200:\n",
    "                raise Exception(\"API 요청 실패\")\n",
    "        except Exception as e:\n",
    "            print(e)\n",
    "            break\n",
    "        else:\n",
    "            # 데이터 가공\n",
    "            try:\n",
    "                print(get_movies(movie_list_items))\n",
    "                movies.extend(get_movies(movie_list_items))\n",
    "                # 페이지 번호 증가\n",
    "                current_page += 1\n",
    "\n",
    "            except ValueError as e:\n",
    "                print(f\"JSON 디코딩 오류: {e}\")\n",
    "    return movies"
   ]
  },
  {
   "cell_type": "code",
   "execution_count": null,
   "metadata": {},
   "outputs": [],
   "source": [
    "def save_movie_list(movies):\n",
    "    # 데이터프레임 생성\n",
    "    df = pd.DataFrame(movies)\n",
    "\n",
    "    # CSV 파일로 저장\n",
    "    csv_name = (\n",
    "        f\"movies{Parameters.OPEN_START_DT.value}_to_{Parameters.OPEN_END_DT.value}.csv\"\n",
    "    )\n",
    "    df.to_csv(csv_name, index=False, encoding=\"utf-8-sig\")\n",
    "    print(f\"데이터가 '{csv_name}'로 저장되었습니다.\")"
   ]
  },
  {
   "cell_type": "code",
   "execution_count": null,
   "metadata": {},
   "outputs": [],
   "source": [
    "movies = get_movie_list()\n",
    "save_movie_list(movies)\n",
    "ray.shutdown()"
   ]
  }
 ],
 "metadata": {
  "kernelspec": {
   "display_name": ".venv",
   "language": "python",
   "name": "python3"
  },
  "language_info": {
   "codemirror_mode": {
    "name": "ipython",
    "version": 3
   },
   "file_extension": ".py",
   "mimetype": "text/x-python",
   "name": "python",
   "nbconvert_exporter": "python",
   "pygments_lexer": "ipython3",
   "version": "3.12.4"
  }
 },
 "nbformat": 4,
 "nbformat_minor": 2
}
